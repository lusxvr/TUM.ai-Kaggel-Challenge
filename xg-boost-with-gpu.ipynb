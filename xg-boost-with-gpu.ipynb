{
 "cells": [
  {
   "cell_type": "markdown",
   "id": "d54c2dce",
   "metadata": {
    "papermill": {
     "duration": 0.004353,
     "end_time": "2023-04-16T12:41:17.822967",
     "exception": false,
     "start_time": "2023-04-16T12:41:17.818614",
     "status": "completed"
    },
    "tags": []
   },
   "source": [
    "# Install GPU related stuff"
   ]
  },
  {
   "cell_type": "code",
   "execution_count": 1,
   "id": "eb96eb52",
   "metadata": {
    "execution": {
     "iopub.execute_input": "2023-04-16T12:41:17.832472Z",
     "iopub.status.busy": "2023-04-16T12:41:17.831238Z",
     "iopub.status.idle": "2023-04-16T12:41:31.766672Z",
     "shell.execute_reply": "2023-04-16T12:41:31.765475Z"
    },
    "papermill": {
     "duration": 13.943124,
     "end_time": "2023-04-16T12:41:31.769569",
     "exception": false,
     "start_time": "2023-04-16T12:41:17.826445",
     "status": "completed"
    },
    "tags": []
   },
   "outputs": [
    {
     "name": "stdout",
     "output_type": "stream",
     "text": [
      "Requirement already satisfied: cudf in /opt/conda/lib/python3.7/site-packages (21.12.2)\r\n",
      "Requirement already satisfied: cuml in /opt/conda/lib/python3.7/site-packages (21.12.0)\r\n",
      "Requirement already satisfied: numba>=0.53.1 in /opt/conda/lib/python3.7/site-packages (from cudf) (0.56.4)\r\n",
      "Requirement already satisfied: Cython<0.30,>=0.29 in /opt/conda/lib/python3.7/site-packages (from cudf) (0.29.34)\r\n",
      "Requirement already satisfied: fsspec>=0.6.0 in /opt/conda/lib/python3.7/site-packages (from cudf) (2023.1.0)\r\n",
      "Requirement already satisfied: numpy in /opt/conda/lib/python3.7/site-packages (from cudf) (1.21.6)\r\n",
      "Requirement already satisfied: pandas<1.4.0dev0,>=1.0 in /opt/conda/lib/python3.7/site-packages (from cudf) (1.3.5)\r\n",
      "Requirement already satisfied: typing_extensions in /opt/conda/lib/python3.7/site-packages (from cudf) (4.4.0)\r\n",
      "Requirement already satisfied: protobuf in /opt/conda/lib/python3.7/site-packages (from cudf) (3.20.3)\r\n",
      "Requirement already satisfied: nvtx>=0.2.1 in /opt/conda/lib/python3.7/site-packages (from cudf) (0.2.3)\r\n",
      "Requirement already satisfied: cachetools in /opt/conda/lib/python3.7/site-packages (from cudf) (4.2.4)\r\n",
      "Requirement already satisfied: packaging in /opt/conda/lib/python3.7/site-packages (from cudf) (23.0)\r\n",
      "Collecting cupy-cuda115\r\n",
      "  Downloading cupy_cuda115-10.6.0-cp37-cp37m-manylinux1_x86_64.whl (80.0 MB)\r\n",
      "\u001b[2K     \u001b[90m━━━━━━━━━━━━━━━━━━━━━━━━━━━━━━━━━━━━━━━━\u001b[0m \u001b[32m80.0/80.0 MB\u001b[0m \u001b[31m15.1 MB/s\u001b[0m eta \u001b[36m0:00:00\u001b[0m\r\n",
      "\u001b[?25hRequirement already satisfied: setuptools in /opt/conda/lib/python3.7/site-packages (from numba>=0.53.1->cudf) (59.8.0)\r\n",
      "Requirement already satisfied: llvmlite<0.40,>=0.39.0dev0 in /opt/conda/lib/python3.7/site-packages (from numba>=0.53.1->cudf) (0.39.1)\r\n",
      "Requirement already satisfied: importlib-metadata in /opt/conda/lib/python3.7/site-packages (from numba>=0.53.1->cudf) (4.11.4)\r\n",
      "Requirement already satisfied: python-dateutil>=2.7.3 in /opt/conda/lib/python3.7/site-packages (from pandas<1.4.0dev0,>=1.0->cudf) (2.8.2)\r\n",
      "Requirement already satisfied: pytz>=2017.3 in /opt/conda/lib/python3.7/site-packages (from pandas<1.4.0dev0,>=1.0->cudf) (2023.3)\r\n",
      "Requirement already satisfied: fastrlock>=0.5 in /opt/conda/lib/python3.7/site-packages (from cupy-cuda115->cudf) (0.8)\r\n",
      "Requirement already satisfied: six>=1.5 in /opt/conda/lib/python3.7/site-packages (from python-dateutil>=2.7.3->pandas<1.4.0dev0,>=1.0->cudf) (1.16.0)\r\n",
      "Requirement already satisfied: zipp>=0.5 in /opt/conda/lib/python3.7/site-packages (from importlib-metadata->numba>=0.53.1->cudf) (3.11.0)\r\n",
      "Installing collected packages: cupy-cuda115\r\n",
      "\u001b[31mERROR: pip's dependency resolver does not currently take into account all the packages that are installed. This behaviour is the source of the following dependency conflicts.\r\n",
      "dask-cudf 21.12.2 requires dask<=2021.11.2,>=2021.11.1, but you have dask 2022.2.0 which is incompatible.\u001b[0m\u001b[31m\r\n",
      "\u001b[0mSuccessfully installed cupy-cuda115-10.6.0\r\n",
      "\u001b[33mWARNING: Running pip as the 'root' user can result in broken permissions and conflicting behaviour with the system package manager. It is recommended to use a virtual environment instead: https://pip.pypa.io/warnings/venv\u001b[0m\u001b[33m\r\n",
      "\u001b[0m"
     ]
    }
   ],
   "source": [
    "!pip install cudf cuml"
   ]
  },
  {
   "cell_type": "markdown",
   "id": "d396969f",
   "metadata": {
    "papermill": {
     "duration": 0.004487,
     "end_time": "2023-04-16T12:41:31.778950",
     "exception": false,
     "start_time": "2023-04-16T12:41:31.774463",
     "status": "completed"
    },
    "tags": []
   },
   "source": [
    "# Import necessary libraries"
   ]
  },
  {
   "cell_type": "code",
   "execution_count": 2,
   "id": "cdc94ad8",
   "metadata": {
    "_cell_guid": "b1076dfc-b9ad-4769-8c92-a6c4dae69d19",
    "_uuid": "8f2839f25d086af736a60e9eeb907d3b93b6e0e5",
    "execution": {
     "iopub.execute_input": "2023-04-16T12:41:31.789241Z",
     "iopub.status.busy": "2023-04-16T12:41:31.788931Z",
     "iopub.status.idle": "2023-04-16T12:41:37.282640Z",
     "shell.execute_reply": "2023-04-16T12:41:37.281518Z"
    },
    "papermill": {
     "duration": 5.501751,
     "end_time": "2023-04-16T12:41:37.284928",
     "exception": false,
     "start_time": "2023-04-16T12:41:31.783177",
     "status": "completed"
    },
    "tags": []
   },
   "outputs": [
    {
     "name": "stdout",
     "output_type": "stream",
     "text": [
      "/kaggle/input/tumai-x-aimunich-x-kkcompany/train_target_events.csv\n",
      "/kaggle/input/tumai-x-aimunich-x-kkcompany/sample.csv\n",
      "/kaggle/input/tumai-x-aimunich-x-kkcompany/light_train_target_labels.csv\n",
      "/kaggle/input/tumai-x-aimunich-x-kkcompany/light_train_source_labels.csv\n",
      "/kaggle/input/tumai-x-aimunich-x-kkcompany/test_source_events.csv\n",
      "/kaggle/input/tumai-x-aimunich-x-kkcompany/train_source_events.csv\n",
      "/kaggle/input/tumai-x-aimunich-x-kkcompany/light_test_source_labels.csv\n"
     ]
    }
   ],
   "source": [
    "# This Python 3 environment comes with many helpful analytics libraries installed\n",
    "# It is defined by the kaggle/python Docker image: https://github.com/kaggle/docker-python\n",
    "# For example, here's several helpful packages to load\n",
    "\n",
    "import numpy as np # linear algebra\n",
    "import pandas as pd # data processing, CSV file I/O (e.g. pd.read_csv)\n",
    "import matplotlib.pyplot as plt\n",
    "import cudf\n",
    "import cuml\n",
    "from cuml.model_selection import train_test_split\n",
    "from cuml.metrics import accuracy_score\n",
    "import xgboost as xgb\n",
    "from sklearn.model_selection import train_test_split\n",
    "from sklearn.metrics import accuracy_score\n",
    "\n",
    "# Input data files are available in the read-only \"../input/\" directory\n",
    "# For example, running this (by clicking run or pressing Shift+Enter) will list all files under the input directory\n",
    "\n",
    "import os\n",
    "for dirname, _, filenames in os.walk('/kaggle/input'):\n",
    "    for filename in filenames:\n",
    "        print(os.path.join(dirname, filename))\n",
    "\n",
    "# You can write up to 20GB to the current directory (/kaggle/working/) that gets preserved as output when you create a version using \"Save & Run All\" \n",
    "# You can also write temporary files to /kaggle/temp/, but they won't be saved outside of the current session"
   ]
  },
  {
   "cell_type": "markdown",
   "id": "d1dcd4a5",
   "metadata": {
    "papermill": {
     "duration": 0.004229,
     "end_time": "2023-04-16T12:41:37.294124",
     "exception": false,
     "start_time": "2023-04-16T12:41:37.289895",
     "status": "completed"
    },
    "tags": []
   },
   "source": [
    "# Prepare Data"
   ]
  },
  {
   "cell_type": "code",
   "execution_count": 3,
   "id": "fa85c198",
   "metadata": {
    "execution": {
     "iopub.execute_input": "2023-04-16T12:41:37.304637Z",
     "iopub.status.busy": "2023-04-16T12:41:37.304282Z",
     "iopub.status.idle": "2023-04-16T12:41:42.938084Z",
     "shell.execute_reply": "2023-04-16T12:41:42.937027Z"
    },
    "papermill": {
     "duration": 5.642236,
     "end_time": "2023-04-16T12:41:42.940939",
     "exception": false,
     "start_time": "2023-04-16T12:41:37.298703",
     "status": "completed"
    },
    "tags": []
   },
   "outputs": [],
   "source": [
    "time_slot_data_X = cudf.read_csv('/kaggle/input/tumai-x-aimunich-x-kkcompany/light_train_source_labels.csv')\n",
    "time_slot_data_y = cudf.read_csv('/kaggle/input/tumai-x-aimunich-x-kkcompany/light_train_target_labels.csv')"
   ]
  },
  {
   "cell_type": "code",
   "execution_count": 4,
   "id": "dd760399",
   "metadata": {
    "execution": {
     "iopub.execute_input": "2023-04-16T12:41:42.952310Z",
     "iopub.status.busy": "2023-04-16T12:41:42.951989Z",
     "iopub.status.idle": "2023-04-16T12:41:43.098123Z",
     "shell.execute_reply": "2023-04-16T12:41:43.097012Z"
    },
    "papermill": {
     "duration": 0.155126,
     "end_time": "2023-04-16T12:41:43.101104",
     "exception": false,
     "start_time": "2023-04-16T12:41:42.945978",
     "status": "completed"
    },
    "tags": []
   },
   "outputs": [],
   "source": [
    "time_slot_cols_X = list(time_slot_data_X.columns)\n",
    "time_slot_cols_X.remove('user_id')\n",
    "\n",
    "time_slot_cols_y = list(time_slot_data_y.columns)\n",
    "time_slot_cols_y.remove('user_id')\n",
    "\n",
    "\n",
    "X = time_slot_data_X[time_slot_cols_X]\n",
    "y = time_slot_data_y[time_slot_cols_y]\n",
    "\n",
    "# split into training and testing sets\n",
    "X_train, X_test, y_train_cudf, y_test_cudf = train_test_split(X, y, test_size=0.2, random_state=42)\n",
    "\n",
    "X_train = cudf.DataFrame(X_train)\n",
    "X_test = cudf.DataFrame(X_test)\n",
    "\n",
    "y_train = cudf.DataFrame(y_train_cudf)\n",
    "y_test = cudf.DataFrame(y_test_cudf)"
   ]
  },
  {
   "cell_type": "markdown",
   "id": "1c2dd316",
   "metadata": {
    "papermill": {
     "duration": 0.004587,
     "end_time": "2023-04-16T12:41:43.110600",
     "exception": false,
     "start_time": "2023-04-16T12:41:43.106013",
     "status": "completed"
    },
    "tags": []
   },
   "source": [
    "# Train XG-Boost Classifier"
   ]
  },
  {
   "cell_type": "code",
   "execution_count": 5,
   "id": "c1a5d77e",
   "metadata": {
    "execution": {
     "iopub.execute_input": "2023-04-16T12:41:43.121871Z",
     "iopub.status.busy": "2023-04-16T12:41:43.120794Z",
     "iopub.status.idle": "2023-04-16T12:42:42.332630Z",
     "shell.execute_reply": "2023-04-16T12:42:42.331122Z"
    },
    "papermill": {
     "duration": 59.223863,
     "end_time": "2023-04-16T12:42:42.338971",
     "exception": false,
     "start_time": "2023-04-16T12:41:43.115108",
     "status": "completed"
    },
    "tags": []
   },
   "outputs": [
    {
     "name": "stdout",
     "output_type": "stream",
     "text": [
      "Accuracy: 0.772488534450531\n"
     ]
    }
   ],
   "source": [
    "# create XGBoost classifier\n",
    "clf = xgb.XGBClassifier(tree_method='gpu_hist', gpu_id=0)\n",
    "\n",
    "# fit the classifier to the training data\n",
    "clf.fit(X_train, y_train)\n",
    "\n",
    "# make predictions on the testing data\n",
    "y_pred = clf.predict(X_test)\n",
    "\n",
    "# calculate accuracy of the predictions\n",
    "accuracy = cuml.accuracy_score(y_test.values.ravel(), y_pred)\n",
    "\n",
    "print('Accuracy:', accuracy)"
   ]
  },
  {
   "cell_type": "markdown",
   "id": "38d6b42d",
   "metadata": {
    "papermill": {
     "duration": 0.004456,
     "end_time": "2023-04-16T12:42:42.348130",
     "exception": false,
     "start_time": "2023-04-16T12:42:42.343674",
     "status": "completed"
    },
    "tags": []
   },
   "source": [
    "# Create Submission"
   ]
  },
  {
   "cell_type": "code",
   "execution_count": 6,
   "id": "5bcfe062",
   "metadata": {
    "execution": {
     "iopub.execute_input": "2023-04-16T12:42:42.358552Z",
     "iopub.status.busy": "2023-04-16T12:42:42.358247Z",
     "iopub.status.idle": "2023-04-16T12:42:42.988991Z",
     "shell.execute_reply": "2023-04-16T12:42:42.987955Z"
    },
    "papermill": {
     "duration": 0.639158,
     "end_time": "2023-04-16T12:42:42.991875",
     "exception": false,
     "start_time": "2023-04-16T12:42:42.352717",
     "status": "completed"
    },
    "tags": []
   },
   "outputs": [],
   "source": [
    "X_submission = cudf.read_csv('/kaggle/input/tumai-x-aimunich-x-kkcompany/light_test_source_labels.csv')\n",
    "user_ids = X_submission['user_id']\n",
    "X_sub = X_submission[time_slot_cols_X]\n",
    "y_sub = clf.predict(X_sub)\n",
    "submission = pd.DataFrame(y_sub, columns=time_slot_cols_y)\n",
    "submission['user_id'] = user_ids.to_numpy()\n",
    "submission = submission[['user_id']+time_slot_cols_y]"
   ]
  },
  {
   "cell_type": "code",
   "execution_count": 7,
   "id": "8c1f4c0b",
   "metadata": {
    "execution": {
     "iopub.execute_input": "2023-04-16T12:42:43.002605Z",
     "iopub.status.busy": "2023-04-16T12:42:43.002301Z",
     "iopub.status.idle": "2023-04-16T12:42:43.085870Z",
     "shell.execute_reply": "2023-04-16T12:42:43.084871Z"
    },
    "papermill": {
     "duration": 0.092084,
     "end_time": "2023-04-16T12:42:43.088620",
     "exception": false,
     "start_time": "2023-04-16T12:42:42.996536",
     "status": "completed"
    },
    "tags": []
   },
   "outputs": [],
   "source": [
    "submission.to_csv('submission.csv', index=False)"
   ]
  }
 ],
 "metadata": {
  "kernelspec": {
   "display_name": "Python 3",
   "language": "python",
   "name": "python3"
  },
  "language_info": {
   "codemirror_mode": {
    "name": "ipython",
    "version": 3
   },
   "file_extension": ".py",
   "mimetype": "text/x-python",
   "name": "python",
   "nbconvert_exporter": "python",
   "pygments_lexer": "ipython3",
   "version": "3.7.12"
  },
  "papermill": {
   "default_parameters": {},
   "duration": 96.842392,
   "end_time": "2023-04-16T12:42:45.399923",
   "environment_variables": {},
   "exception": null,
   "input_path": "__notebook__.ipynb",
   "output_path": "__notebook__.ipynb",
   "parameters": {},
   "start_time": "2023-04-16T12:41:08.557531",
   "version": "2.4.0"
  }
 },
 "nbformat": 4,
 "nbformat_minor": 5
}
