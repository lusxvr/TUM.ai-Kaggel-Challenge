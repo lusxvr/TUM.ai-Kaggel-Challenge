{
 "cells": [
  {
   "cell_type": "markdown",
   "id": "c8cbb0ce",
   "metadata": {
    "papermill": {
     "duration": 0.005878,
     "end_time": "2023-04-16T15:38:17.308150",
     "exception": false,
     "start_time": "2023-04-16T15:38:17.302272",
     "status": "completed"
    },
    "tags": []
   },
   "source": [
    "# Install GPU related stuff"
   ]
  },
  {
   "cell_type": "code",
   "execution_count": 1,
   "id": "27eb9a88",
   "metadata": {
    "execution": {
     "iopub.execute_input": "2023-04-16T15:38:17.319936Z",
     "iopub.status.busy": "2023-04-16T15:38:17.318940Z",
     "iopub.status.idle": "2023-04-16T15:38:31.176647Z",
     "shell.execute_reply": "2023-04-16T15:38:31.175460Z"
    },
    "papermill": {
     "duration": 13.866698,
     "end_time": "2023-04-16T15:38:31.179760",
     "exception": false,
     "start_time": "2023-04-16T15:38:17.313062",
     "status": "completed"
    },
    "tags": []
   },
   "outputs": [
    {
     "name": "stdout",
     "output_type": "stream",
     "text": [
      "Requirement already satisfied: cudf in /opt/conda/lib/python3.7/site-packages (21.12.2)\r\n",
      "Requirement already satisfied: cuml in /opt/conda/lib/python3.7/site-packages (21.12.0)\r\n",
      "Requirement already satisfied: numba>=0.53.1 in /opt/conda/lib/python3.7/site-packages (from cudf) (0.56.4)\r\n",
      "Requirement already satisfied: Cython<0.30,>=0.29 in /opt/conda/lib/python3.7/site-packages (from cudf) (0.29.34)\r\n",
      "Requirement already satisfied: fsspec>=0.6.0 in /opt/conda/lib/python3.7/site-packages (from cudf) (2023.1.0)\r\n",
      "Requirement already satisfied: numpy in /opt/conda/lib/python3.7/site-packages (from cudf) (1.21.6)\r\n",
      "Requirement already satisfied: pandas<1.4.0dev0,>=1.0 in /opt/conda/lib/python3.7/site-packages (from cudf) (1.3.5)\r\n",
      "Requirement already satisfied: typing_extensions in /opt/conda/lib/python3.7/site-packages (from cudf) (4.4.0)\r\n",
      "Requirement already satisfied: protobuf in /opt/conda/lib/python3.7/site-packages (from cudf) (3.20.3)\r\n",
      "Requirement already satisfied: nvtx>=0.2.1 in /opt/conda/lib/python3.7/site-packages (from cudf) (0.2.3)\r\n",
      "Requirement already satisfied: cachetools in /opt/conda/lib/python3.7/site-packages (from cudf) (4.2.4)\r\n",
      "Requirement already satisfied: packaging in /opt/conda/lib/python3.7/site-packages (from cudf) (23.0)\r\n",
      "Collecting cupy-cuda115\r\n",
      "  Downloading cupy_cuda115-10.6.0-cp37-cp37m-manylinux1_x86_64.whl (80.0 MB)\r\n",
      "\u001b[2K     \u001b[90m━━━━━━━━━━━━━━━━━━━━━━━━━━━━━━━━━━━━━━━━\u001b[0m \u001b[32m80.0/80.0 MB\u001b[0m \u001b[31m16.2 MB/s\u001b[0m eta \u001b[36m0:00:00\u001b[0m\r\n",
      "\u001b[?25hRequirement already satisfied: importlib-metadata in /opt/conda/lib/python3.7/site-packages (from numba>=0.53.1->cudf) (4.11.4)\r\n",
      "Requirement already satisfied: llvmlite<0.40,>=0.39.0dev0 in /opt/conda/lib/python3.7/site-packages (from numba>=0.53.1->cudf) (0.39.1)\r\n",
      "Requirement already satisfied: setuptools in /opt/conda/lib/python3.7/site-packages (from numba>=0.53.1->cudf) (59.8.0)\r\n",
      "Requirement already satisfied: python-dateutil>=2.7.3 in /opt/conda/lib/python3.7/site-packages (from pandas<1.4.0dev0,>=1.0->cudf) (2.8.2)\r\n",
      "Requirement already satisfied: pytz>=2017.3 in /opt/conda/lib/python3.7/site-packages (from pandas<1.4.0dev0,>=1.0->cudf) (2023.3)\r\n",
      "Requirement already satisfied: fastrlock>=0.5 in /opt/conda/lib/python3.7/site-packages (from cupy-cuda115->cudf) (0.8)\r\n",
      "Requirement already satisfied: six>=1.5 in /opt/conda/lib/python3.7/site-packages (from python-dateutil>=2.7.3->pandas<1.4.0dev0,>=1.0->cudf) (1.16.0)\r\n",
      "Requirement already satisfied: zipp>=0.5 in /opt/conda/lib/python3.7/site-packages (from importlib-metadata->numba>=0.53.1->cudf) (3.11.0)\r\n",
      "Installing collected packages: cupy-cuda115\r\n",
      "\u001b[31mERROR: pip's dependency resolver does not currently take into account all the packages that are installed. This behaviour is the source of the following dependency conflicts.\r\n",
      "dask-cudf 21.12.2 requires dask<=2021.11.2,>=2021.11.1, but you have dask 2022.2.0 which is incompatible.\u001b[0m\u001b[31m\r\n",
      "\u001b[0mSuccessfully installed cupy-cuda115-10.6.0\r\n",
      "\u001b[33mWARNING: Running pip as the 'root' user can result in broken permissions and conflicting behaviour with the system package manager. It is recommended to use a virtual environment instead: https://pip.pypa.io/warnings/venv\u001b[0m\u001b[33m\r\n",
      "\u001b[0m"
     ]
    }
   ],
   "source": [
    "!pip install cudf cuml"
   ]
  },
  {
   "cell_type": "markdown",
   "id": "b2f1205b",
   "metadata": {
    "papermill": {
     "duration": 0.006114,
     "end_time": "2023-04-16T15:38:31.192497",
     "exception": false,
     "start_time": "2023-04-16T15:38:31.186383",
     "status": "completed"
    },
    "tags": []
   },
   "source": [
    "# Import necessary libraries"
   ]
  },
  {
   "cell_type": "code",
   "execution_count": 2,
   "id": "08a2e202",
   "metadata": {
    "_cell_guid": "b1076dfc-b9ad-4769-8c92-a6c4dae69d19",
    "_uuid": "8f2839f25d086af736a60e9eeb907d3b93b6e0e5",
    "execution": {
     "iopub.execute_input": "2023-04-16T15:38:31.207045Z",
     "iopub.status.busy": "2023-04-16T15:38:31.206664Z",
     "iopub.status.idle": "2023-04-16T15:38:36.326808Z",
     "shell.execute_reply": "2023-04-16T15:38:36.325661Z"
    },
    "papermill": {
     "duration": 5.130564,
     "end_time": "2023-04-16T15:38:36.329390",
     "exception": false,
     "start_time": "2023-04-16T15:38:31.198826",
     "status": "completed"
    },
    "tags": []
   },
   "outputs": [
    {
     "name": "stdout",
     "output_type": "stream",
     "text": [
      "/kaggle/input/tumai-x-aimunich-x-kkcompany/train_target_events.csv\n",
      "/kaggle/input/tumai-x-aimunich-x-kkcompany/sample.csv\n",
      "/kaggle/input/tumai-x-aimunich-x-kkcompany/light_train_target_labels.csv\n",
      "/kaggle/input/tumai-x-aimunich-x-kkcompany/light_train_source_labels.csv\n",
      "/kaggle/input/tumai-x-aimunich-x-kkcompany/test_source_events.csv\n",
      "/kaggle/input/tumai-x-aimunich-x-kkcompany/train_source_events.csv\n",
      "/kaggle/input/tumai-x-aimunich-x-kkcompany/light_test_source_labels.csv\n"
     ]
    }
   ],
   "source": [
    "# This Python 3 environment comes with many helpful analytics libraries installed\n",
    "# It is defined by the kaggle/python Docker image: https://github.com/kaggle/docker-python\n",
    "# For example, here's several helpful packages to load\n",
    "\n",
    "import numpy as np # linear algebra\n",
    "import pandas as pd # data processing, CSV file I/O (e.g. pd.read_csv)\n",
    "import matplotlib.pyplot as plt\n",
    "import cudf\n",
    "import cuml\n",
    "from cuml.model_selection import train_test_split\n",
    "from cuml.metrics import accuracy_score\n",
    "import xgboost as xgb\n",
    "from sklearn.model_selection import train_test_split\n",
    "from sklearn.metrics import accuracy_score\n",
    "from sklearn import metrics\n",
    "import time\n",
    "\n",
    "# Input data files are available in the read-only \"../input/\" directory\n",
    "# For example, running this (by clicking run or pressing Shift+Enter) will list all files under the input directory\n",
    "\n",
    "import os\n",
    "for dirname, _, filenames in os.walk('/kaggle/input'):\n",
    "    for filename in filenames:\n",
    "        print(os.path.join(dirname, filename))\n",
    "\n",
    "# You can write up to 20GB to the current directory (/kaggle/working/) that gets preserved as output when you create a version using \"Save & Run All\" \n",
    "# You can also write temporary files to /kaggle/temp/, but they won't be saved outside of the current session"
   ]
  },
  {
   "cell_type": "markdown",
   "id": "2e23f919",
   "metadata": {
    "papermill": {
     "duration": 0.00674,
     "end_time": "2023-04-16T15:38:36.342787",
     "exception": false,
     "start_time": "2023-04-16T15:38:36.336047",
     "status": "completed"
    },
    "tags": []
   },
   "source": [
    "# Prepare Data"
   ]
  },
  {
   "cell_type": "code",
   "execution_count": 3,
   "id": "c885a690",
   "metadata": {
    "execution": {
     "iopub.execute_input": "2023-04-16T15:38:36.357321Z",
     "iopub.status.busy": "2023-04-16T15:38:36.356411Z",
     "iopub.status.idle": "2023-04-16T15:38:42.148080Z",
     "shell.execute_reply": "2023-04-16T15:38:42.147022Z"
    },
    "papermill": {
     "duration": 5.801513,
     "end_time": "2023-04-16T15:38:42.150598",
     "exception": false,
     "start_time": "2023-04-16T15:38:36.349085",
     "status": "completed"
    },
    "tags": []
   },
   "outputs": [],
   "source": [
    "time_slot_data_X = cudf.read_csv('/kaggle/input/tumai-x-aimunich-x-kkcompany/light_train_source_labels.csv')\n",
    "time_slot_data_y = cudf.read_csv('/kaggle/input/tumai-x-aimunich-x-kkcompany/light_train_target_labels.csv')"
   ]
  },
  {
   "cell_type": "code",
   "execution_count": 4,
   "id": "9e3b44c0",
   "metadata": {
    "execution": {
     "iopub.execute_input": "2023-04-16T15:38:42.167027Z",
     "iopub.status.busy": "2023-04-16T15:38:42.166690Z",
     "iopub.status.idle": "2023-04-16T15:38:42.310856Z",
     "shell.execute_reply": "2023-04-16T15:38:42.309744Z"
    },
    "papermill": {
     "duration": 0.154801,
     "end_time": "2023-04-16T15:38:42.313560",
     "exception": false,
     "start_time": "2023-04-16T15:38:42.158759",
     "status": "completed"
    },
    "tags": []
   },
   "outputs": [],
   "source": [
    "time_slot_cols_X = list(time_slot_data_X.columns)\n",
    "time_slot_cols_X.remove('user_id')\n",
    "\n",
    "time_slot_cols_y = list(time_slot_data_y.columns)\n",
    "time_slot_cols_y.remove('user_id')\n",
    "\n",
    "\n",
    "X = time_slot_data_X[time_slot_cols_X]\n",
    "y = time_slot_data_y[time_slot_cols_y]\n",
    "\n",
    "# split into training and testing sets\n",
    "X_train, X_test, y_train_cudf, y_test_cudf = train_test_split(X, y, test_size=0.2, random_state=42)\n",
    "\n",
    "X_train = cudf.DataFrame(X_train)\n",
    "X_test = cudf.DataFrame(X_test)\n",
    "\n",
    "y_train = cudf.DataFrame(y_train_cudf)\n",
    "y_test = cudf.DataFrame(y_test_cudf)"
   ]
  },
  {
   "cell_type": "markdown",
   "id": "89e32cd8",
   "metadata": {
    "papermill": {
     "duration": 0.007041,
     "end_time": "2023-04-16T15:38:42.327255",
     "exception": false,
     "start_time": "2023-04-16T15:38:42.320214",
     "status": "completed"
    },
    "tags": []
   },
   "source": [
    "# Statistical Analysis"
   ]
  },
  {
   "cell_type": "code",
   "execution_count": 5,
   "id": "09830a9a",
   "metadata": {
    "execution": {
     "iopub.execute_input": "2023-04-16T15:38:42.340912Z",
     "iopub.status.busy": "2023-04-16T15:38:42.340590Z",
     "iopub.status.idle": "2023-04-16T15:38:42.344925Z",
     "shell.execute_reply": "2023-04-16T15:38:42.343906Z"
    },
    "papermill": {
     "duration": 0.013608,
     "end_time": "2023-04-16T15:38:42.347022",
     "exception": false,
     "start_time": "2023-04-16T15:38:42.333414",
     "status": "completed"
    },
    "tags": []
   },
   "outputs": [],
   "source": [
    "#slots_per_week = 28\n",
    "#num_weeks = X_train.shape[1] / slots_per_week\n",
    "#shape = X_train.shape\n",
    "\n",
    "#weeks = []\n",
    "#for i in range(int(num_weeks)):\n",
    "#    weeks.append(X_train.iloc[1][(28*i):(28*i)+28])\n",
    "\n",
    "#week = np.zeros(slots_per_week)\n",
    "#for i in range(len(weeks)):\n",
    "#    week += weeks[i].to_numpy()\n",
    "\n",
    "#week = week / num_weeks\n",
    "\n",
    "    \n",
    "#week =  [1 if value >= 0.2 else 0 for value in week]\n"
   ]
  },
  {
   "cell_type": "code",
   "execution_count": 6,
   "id": "e0b450af",
   "metadata": {
    "execution": {
     "iopub.execute_input": "2023-04-16T15:38:42.360695Z",
     "iopub.status.busy": "2023-04-16T15:38:42.360424Z",
     "iopub.status.idle": "2023-04-16T15:38:42.364766Z",
     "shell.execute_reply": "2023-04-16T15:38:42.363794Z"
    },
    "papermill": {
     "duration": 0.014004,
     "end_time": "2023-04-16T15:38:42.367244",
     "exception": false,
     "start_time": "2023-04-16T15:38:42.353240",
     "status": "completed"
    },
    "tags": []
   },
   "outputs": [],
   "source": [
    "#slots_per_week = 28\n",
    "#num_weeks = X_test.shape[1] / slots_per_week\n",
    "#shape = X_test.shape\n",
    "\n",
    "#prob = pd.DataFrame()\n",
    "#for j in range(shape[0]):\n",
    " #   weeks = []\n",
    "  #  for i in range(int(num_weeks)):\n",
    "  #      weeks.append(X_train.iloc[1][(28*i):(28*i)+28])\n",
    "\n",
    "#    week = np.zeros(slots_per_week)\n",
    "#    for i in range(len(weeks)):\n",
    "#        week += weeks[i].to_numpy()\n",
    "\n",
    "#    week = week / num_weeks\n",
    "\n",
    "    \n",
    "#    week =  [1 if value >= 0.2 else 0 for value in week]\n",
    "    \n",
    " #   prob.append(week)"
   ]
  },
  {
   "cell_type": "code",
   "execution_count": 7,
   "id": "6808d762",
   "metadata": {
    "execution": {
     "iopub.execute_input": "2023-04-16T15:38:42.380925Z",
     "iopub.status.busy": "2023-04-16T15:38:42.380629Z",
     "iopub.status.idle": "2023-04-16T15:38:42.384798Z",
     "shell.execute_reply": "2023-04-16T15:38:42.383850Z"
    },
    "papermill": {
     "duration": 0.013548,
     "end_time": "2023-04-16T15:38:42.386954",
     "exception": false,
     "start_time": "2023-04-16T15:38:42.373406",
     "status": "completed"
    },
    "tags": []
   },
   "outputs": [],
   "source": [
    "#print(week)"
   ]
  },
  {
   "cell_type": "code",
   "execution_count": 8,
   "id": "95f51933",
   "metadata": {
    "execution": {
     "iopub.execute_input": "2023-04-16T15:38:42.400428Z",
     "iopub.status.busy": "2023-04-16T15:38:42.400158Z",
     "iopub.status.idle": "2023-04-16T15:38:42.407230Z",
     "shell.execute_reply": "2023-04-16T15:38:42.406181Z"
    },
    "papermill": {
     "duration": 0.016209,
     "end_time": "2023-04-16T15:38:42.409355",
     "exception": false,
     "start_time": "2023-04-16T15:38:42.393146",
     "status": "completed"
    },
    "tags": []
   },
   "outputs": [],
   "source": [
    "def stat_analysis(X_test):\n",
    "    slots_per_week = 28\n",
    "    num_weeks = X_test.shape[1] / slots_per_week\n",
    "    shape = X_test.shape\n",
    "\n",
    "    prob = []\n",
    "    for j in range(shape[0]):\n",
    "        weeks = []\n",
    "        for i in range(int(num_weeks)):\n",
    "            weeks.append(X_train.iloc[1][(28*i):(28*i)+28])\n",
    "\n",
    "        week = np.zeros(slots_per_week)\n",
    "        for i in range(len(weeks)):\n",
    "            week += weeks[i].to_numpy()\n",
    "\n",
    "        week = week / num_weeks\n",
    "\n",
    "\n",
    "        week =  [1 if value >= 0.2 else 0 for value in week]\n",
    "\n",
    "        prob.append(week)\n",
    "        return prob"
   ]
  },
  {
   "cell_type": "markdown",
   "id": "698346a9",
   "metadata": {
    "papermill": {
     "duration": 0.005981,
     "end_time": "2023-04-16T15:38:42.421430",
     "exception": false,
     "start_time": "2023-04-16T15:38:42.415449",
     "status": "completed"
    },
    "tags": []
   },
   "source": [
    "# Classification NN"
   ]
  },
  {
   "cell_type": "code",
   "execution_count": 9,
   "id": "4d3bd4e6",
   "metadata": {
    "execution": {
     "iopub.execute_input": "2023-04-16T15:38:42.435524Z",
     "iopub.status.busy": "2023-04-16T15:38:42.434806Z",
     "iopub.status.idle": "2023-04-16T15:45:07.387420Z",
     "shell.execute_reply": "2023-04-16T15:45:07.385248Z"
    },
    "papermill": {
     "duration": 384.962036,
     "end_time": "2023-04-16T15:45:07.389679",
     "exception": false,
     "start_time": "2023-04-16T15:38:42.427643",
     "status": "completed"
    },
    "tags": []
   },
   "outputs": [
    {
     "name": "stdout",
     "output_type": "stream",
     "text": [
      "Iteration 1, loss = 10.33600095\n",
      "Iteration 2, loss = 8.57249609\n",
      "Iteration 3, loss = 8.18249200\n",
      "Iteration 4, loss = 7.81113148\n",
      "Iteration 5, loss = 7.37467709\n",
      "Iteration 6, loss = 6.85659727\n",
      "Iteration 7, loss = 6.27422425\n",
      "Iteration 8, loss = 5.64526185\n",
      "Iteration 9, loss = 5.03474793\n",
      "Iteration 10, loss = 4.43218859\n",
      "Iteration 11, loss = 3.88169341\n",
      "Iteration 12, loss = 3.39139848\n",
      "Iteration 13, loss = 2.96016024\n",
      "Iteration 14, loss = 2.61283344\n",
      "Iteration 15, loss = 2.30982454\n",
      "Iteration 16, loss = 2.05168548\n",
      "Iteration 17, loss = 1.82147938\n",
      "Iteration 18, loss = 1.64014183\n",
      "Iteration 19, loss = 1.47357721\n",
      "Iteration 20, loss = 1.35639208\n",
      "Iteration 21, loss = 1.22906561\n",
      "Iteration 22, loss = 1.14733609\n",
      "Iteration 23, loss = 1.07231874\n",
      "Iteration 24, loss = 0.98533698\n",
      "Iteration 25, loss = 0.92653826\n",
      "Iteration 26, loss = 0.86281816\n",
      "Iteration 27, loss = 0.80879697\n",
      "Iteration 28, loss = 0.73938975\n",
      "Iteration 29, loss = 0.71485386\n",
      "Iteration 30, loss = 0.71425282\n",
      "Iteration 31, loss = 0.71099173\n",
      "Iteration 32, loss = 0.71751324\n",
      "Iteration 33, loss = 0.67723911\n",
      "Iteration 34, loss = 0.65453649\n",
      "Iteration 35, loss = 0.60621427\n",
      "Iteration 36, loss = 0.54505210\n",
      "Iteration 37, loss = 0.50171590\n",
      "Iteration 38, loss = 0.46971190\n",
      "Iteration 39, loss = 0.46837845\n",
      "Iteration 40, loss = 0.48995319\n",
      "Iteration 41, loss = 0.53257841\n",
      "Iteration 42, loss = 0.54335254\n",
      "Iteration 43, loss = 0.58168752\n",
      "Iteration 44, loss = 0.59982782\n",
      "Iteration 45, loss = 0.57937141\n",
      "Iteration 46, loss = 0.52352237\n",
      "Iteration 47, loss = 0.47387651\n",
      "Iteration 48, loss = 0.41474830\n",
      "Iteration 49, loss = 0.35386778\n",
      "Iteration 50, loss = 0.30710180\n",
      "Iteration 51, loss = 0.27344565\n",
      "Iteration 52, loss = 0.25747100\n",
      "Iteration 53, loss = 0.24002831\n",
      "Iteration 54, loss = 0.24050686\n",
      "Iteration 55, loss = 0.29637962\n",
      "Iteration 56, loss = 0.44912672\n",
      "Iteration 57, loss = 0.82325890\n",
      "Iteration 58, loss = 0.98498656\n",
      "Iteration 59, loss = 0.77158563\n",
      "Iteration 60, loss = 0.49741656\n",
      "Iteration 61, loss = 0.31729830\n",
      "Iteration 62, loss = 0.22727260\n",
      "Iteration 63, loss = 0.17381276\n",
      "Iteration 64, loss = 0.15512982\n",
      "Iteration 65, loss = 0.14767118\n",
      "Iteration 66, loss = 0.13833829\n",
      "Iteration 67, loss = 0.13592800\n",
      "Iteration 68, loss = 0.13543029\n",
      "Iteration 69, loss = 0.13190971\n",
      "Iteration 70, loss = 0.13164511\n",
      "Iteration 71, loss = 0.13019501\n",
      "Iteration 72, loss = 0.13516510\n",
      "Iteration 73, loss = 0.13436925\n",
      "Iteration 74, loss = 0.22081053\n",
      "Iteration 75, loss = 1.90795772\n",
      "Iteration 76, loss = 1.74682015\n",
      "Iteration 77, loss = 0.75014109\n",
      "Iteration 78, loss = 0.35731243\n",
      "Iteration 79, loss = 0.20171242\n",
      "Iteration 80, loss = 0.14913592\n",
      "Iteration 81, loss = 0.13240743\n",
      "Iteration 82, loss = 0.12847595\n",
      "Iteration 83, loss = 0.12465521\n",
      "Iteration 84, loss = 0.12344347\n",
      "Iteration 85, loss = 0.12015191\n",
      "Iteration 86, loss = 0.12196437\n",
      "Iteration 87, loss = 0.11852325\n",
      "Iteration 88, loss = 0.11707914\n",
      "Iteration 89, loss = 0.11809497\n",
      "Iteration 90, loss = 0.11929398\n",
      "Iteration 91, loss = 0.11737260\n",
      "Iteration 92, loss = 0.11503644\n",
      "Iteration 93, loss = 0.11758888\n",
      "Iteration 94, loss = 0.11876126\n",
      "Iteration 95, loss = 0.11824005\n",
      "Iteration 96, loss = 0.11771085\n",
      "Iteration 97, loss = 0.12049566\n",
      "Iteration 98, loss = 1.47163869\n",
      "Iteration 99, loss = 2.25145386\n",
      "Iteration 100, loss = 0.87772151\n"
     ]
    },
    {
     "name": "stderr",
     "output_type": "stream",
     "text": [
      "/opt/conda/lib/python3.7/site-packages/sklearn/neural_network/_multilayer_perceptron.py:696: ConvergenceWarning: Stochastic Optimizer: Maximum iterations (100) reached and the optimization hasn't converged yet.\n",
      "  ConvergenceWarning,\n"
     ]
    },
    {
     "name": "stdout",
     "output_type": "stream",
     "text": [
      "Accuracy: 0.7173342108726501\n",
      "Execution time:  384.93069553375244 secs\n"
     ]
    }
   ],
   "source": [
    "from sklearn.neural_network import MLPClassifier\n",
    "\n",
    "start_time = time.time()\n",
    "\n",
    "nn_clf = MLPClassifier(solver='adam', alpha=1e-5, hidden_layer_sizes=(500, 200, 50), verbose = True, random_state=1, max_iter=100)\n",
    "nn_clf.fit(X_train.to_numpy(), y_train.to_numpy())\n",
    "\n",
    "# make predictions on the testing data\n",
    "y_pred = nn_clf.predict(X_test.to_numpy())\n",
    "\n",
    "# calculate accuracy of the predictions\n",
    "accuracy = cuml.accuracy_score(y_test.values.ravel(), y_pred)\n",
    "\n",
    "end_time = time.time()\n",
    "\n",
    "\n",
    "print('Accuracy:', accuracy)\n",
    "print(\"Execution time: \", end_time - start_time,\"secs\")"
   ]
  },
  {
   "cell_type": "code",
   "execution_count": 10,
   "id": "13ed6e2b",
   "metadata": {
    "execution": {
     "iopub.execute_input": "2023-04-16T15:45:07.415782Z",
     "iopub.status.busy": "2023-04-16T15:45:07.414050Z",
     "iopub.status.idle": "2023-04-16T15:45:07.469290Z",
     "shell.execute_reply": "2023-04-16T15:45:07.467863Z"
    },
    "papermill": {
     "duration": 0.070371,
     "end_time": "2023-04-16T15:45:07.471650",
     "exception": false,
     "start_time": "2023-04-16T15:45:07.401279",
     "status": "completed"
    },
    "tags": []
   },
   "outputs": [
    {
     "name": "stdout",
     "output_type": "stream",
     "text": [
      "0.5833566753257574\n"
     ]
    }
   ],
   "source": [
    "accuracy = metrics.roc_auc_score(y_test.to_numpy(), y_pred)\n",
    "print(accuracy)"
   ]
  },
  {
   "cell_type": "markdown",
   "id": "7a094c8f",
   "metadata": {
    "papermill": {
     "duration": 0.011127,
     "end_time": "2023-04-16T15:45:07.494420",
     "exception": false,
     "start_time": "2023-04-16T15:45:07.483293",
     "status": "completed"
    },
    "tags": []
   },
   "source": [
    "# Hyperparameter Tuning"
   ]
  },
  {
   "cell_type": "code",
   "execution_count": 11,
   "id": "240ee178",
   "metadata": {
    "execution": {
     "iopub.execute_input": "2023-04-16T15:45:07.518325Z",
     "iopub.status.busy": "2023-04-16T15:45:07.518008Z",
     "iopub.status.idle": "2023-04-16T15:45:07.523416Z",
     "shell.execute_reply": "2023-04-16T15:45:07.522479Z"
    },
    "papermill": {
     "duration": 0.019979,
     "end_time": "2023-04-16T15:45:07.525627",
     "exception": false,
     "start_time": "2023-04-16T15:45:07.505648",
     "status": "completed"
    },
    "tags": []
   },
   "outputs": [],
   "source": [
    "#param_grid = {\n",
    "#    \"max_depth\": [3, 4, 5, 7],\n",
    "#    \"learning_rate\": [0.1, 0.01, 0.05],\n",
    "#    \"gamma\": [0, 0.25, 1],\n",
    "#    \"reg_lambda\": [0, 1, 10],\n",
    "#    \"scale_pos_weight\": [1, 3, 5],\n",
    "#    \"subsample\": [0.8],\n",
    "#    \"colsample_bytree\": [0.5],\n",
    "#}"
   ]
  },
  {
   "cell_type": "code",
   "execution_count": 12,
   "id": "34f004f5",
   "metadata": {
    "execution": {
     "iopub.execute_input": "2023-04-16T15:45:07.549095Z",
     "iopub.status.busy": "2023-04-16T15:45:07.548798Z",
     "iopub.status.idle": "2023-04-16T15:45:07.553094Z",
     "shell.execute_reply": "2023-04-16T15:45:07.552096Z"
    },
    "papermill": {
     "duration": 0.018506,
     "end_time": "2023-04-16T15:45:07.555216",
     "exception": false,
     "start_time": "2023-04-16T15:45:07.536710",
     "status": "completed"
    },
    "tags": []
   },
   "outputs": [],
   "source": [
    "#from sklearn.model_selection import GridSearchCV\n",
    "\n",
    "#start_time = time.time()\n",
    "\n",
    "# Init classifier\n",
    "#xgb_cl = xgb.XGBClassifier(objective=\"binary:logistic\", tree_method='gpu_hist', gpu_id=0)\n",
    "\n",
    "# Init Grid Search\n",
    "#grid_cv = GridSearchCV(xgb_cl, param_grid, n_jobs=-1, cv=3, scoring=\"roc_auc\")\n",
    "\n",
    "# Fit\n",
    "#grid_cv.fit(X_train.to_numpy(), y_train.to_numpy())\n",
    "\n",
    "#end_time = time.time()\n",
    "\n",
    "#print(\"Execution time: \", end_time - start_time,\"secs\")"
   ]
  },
  {
   "cell_type": "code",
   "execution_count": 13,
   "id": "08fd9b1b",
   "metadata": {
    "execution": {
     "iopub.execute_input": "2023-04-16T15:45:07.578698Z",
     "iopub.status.busy": "2023-04-16T15:45:07.578406Z",
     "iopub.status.idle": "2023-04-16T15:45:07.583314Z",
     "shell.execute_reply": "2023-04-16T15:45:07.582371Z"
    },
    "papermill": {
     "duration": 0.019191,
     "end_time": "2023-04-16T15:45:07.585463",
     "exception": false,
     "start_time": "2023-04-16T15:45:07.566272",
     "status": "completed"
    },
    "tags": []
   },
   "outputs": [],
   "source": [
    "#grid_cv.best_score_\n",
    "#grid_cv.best_params_"
   ]
  },
  {
   "cell_type": "markdown",
   "id": "9bcd0bac",
   "metadata": {
    "papermill": {
     "duration": 0.011046,
     "end_time": "2023-04-16T15:45:07.608040",
     "exception": false,
     "start_time": "2023-04-16T15:45:07.596994",
     "status": "completed"
    },
    "tags": []
   },
   "source": [
    "# Train XG-Boost Classifier"
   ]
  },
  {
   "cell_type": "code",
   "execution_count": 14,
   "id": "42d3251b",
   "metadata": {
    "execution": {
     "iopub.execute_input": "2023-04-16T15:45:07.632149Z",
     "iopub.status.busy": "2023-04-16T15:45:07.631821Z",
     "iopub.status.idle": "2023-04-16T15:45:07.636411Z",
     "shell.execute_reply": "2023-04-16T15:45:07.635373Z"
    },
    "papermill": {
     "duration": 0.019156,
     "end_time": "2023-04-16T15:45:07.638670",
     "exception": false,
     "start_time": "2023-04-16T15:45:07.619514",
     "status": "completed"
    },
    "tags": []
   },
   "outputs": [],
   "source": [
    "#start_time = time.time()\n",
    "# create XGBoost classifier\n",
    "#clf = xgb.XGBClassifier(tree_method='gpu_hist', gpu_id=0)\n",
    "\n",
    "# fit the classifier to the training data\n",
    "#clf.fit(X_train, y_train)\n",
    "\n",
    "# make predictions on the testing data\n",
    "#y_pred = clf.predict(X_test)\n",
    "\n",
    "# calculate accuracy of the predictions\n",
    "#accuracy = cuml.accuracy_score(y_test.values.ravel(), y_pred)\n",
    "\n",
    "#end_time = time.time()\n",
    "\n",
    "#print('Accuracy:', accuracy)\n",
    "#print(\"Execution time: \", end_time - start_time,\"secs\")"
   ]
  },
  {
   "cell_type": "code",
   "execution_count": 15,
   "id": "fca84abb",
   "metadata": {
    "execution": {
     "iopub.execute_input": "2023-04-16T15:45:07.661998Z",
     "iopub.status.busy": "2023-04-16T15:45:07.661710Z",
     "iopub.status.idle": "2023-04-16T15:45:07.664981Z",
     "shell.execute_reply": "2023-04-16T15:45:07.664201Z"
    },
    "papermill": {
     "duration": 0.0173,
     "end_time": "2023-04-16T15:45:07.667048",
     "exception": false,
     "start_time": "2023-04-16T15:45:07.649748",
     "status": "completed"
    },
    "tags": []
   },
   "outputs": [],
   "source": [
    "#accuracy = metrics.roc_auc_score(y_test.to_numpy(), y_pred)\n",
    "#print(accuracy)"
   ]
  },
  {
   "cell_type": "markdown",
   "id": "a6c1a194",
   "metadata": {
    "papermill": {
     "duration": 0.011026,
     "end_time": "2023-04-16T15:45:07.689189",
     "exception": false,
     "start_time": "2023-04-16T15:45:07.678163",
     "status": "completed"
    },
    "tags": []
   },
   "source": [
    "# Create Submission"
   ]
  },
  {
   "cell_type": "code",
   "execution_count": 16,
   "id": "c7500a48",
   "metadata": {
    "execution": {
     "iopub.execute_input": "2023-04-16T15:45:07.712839Z",
     "iopub.status.busy": "2023-04-16T15:45:07.712563Z",
     "iopub.status.idle": "2023-04-16T15:45:08.525577Z",
     "shell.execute_reply": "2023-04-16T15:45:08.524134Z"
    },
    "papermill": {
     "duration": 0.829592,
     "end_time": "2023-04-16T15:45:08.529907",
     "exception": false,
     "start_time": "2023-04-16T15:45:07.700315",
     "status": "completed"
    },
    "tags": []
   },
   "outputs": [],
   "source": [
    "X_submission = cudf.read_csv('/kaggle/input/tumai-x-aimunich-x-kkcompany/light_test_source_labels.csv')\n",
    "user_ids = X_submission['user_id']\n",
    "X_sub = X_submission[time_slot_cols_X]\n",
    "y_sub = nn_clf.predict(X_sub.to_numpy())\n",
    "#y_sub = stat_analysis(X_sub)\n",
    "submission = pd.DataFrame(y_sub, columns=time_slot_cols_y)\n",
    "submission['user_id'] = user_ids.to_numpy()\n",
    "submission = submission[['user_id']+time_slot_cols_y]"
   ]
  },
  {
   "cell_type": "code",
   "execution_count": 17,
   "id": "35d4c998",
   "metadata": {
    "execution": {
     "iopub.execute_input": "2023-04-16T15:45:08.592829Z",
     "iopub.status.busy": "2023-04-16T15:45:08.592241Z",
     "iopub.status.idle": "2023-04-16T15:45:08.653150Z",
     "shell.execute_reply": "2023-04-16T15:45:08.652137Z"
    },
    "papermill": {
     "duration": 0.094735,
     "end_time": "2023-04-16T15:45:08.655386",
     "exception": false,
     "start_time": "2023-04-16T15:45:08.560651",
     "status": "completed"
    },
    "tags": []
   },
   "outputs": [],
   "source": [
    "submission.to_csv('submission.csv', index=False)"
   ]
  }
 ],
 "metadata": {
  "kernelspec": {
   "display_name": "Python 3",
   "language": "python",
   "name": "python3"
  },
  "language_info": {
   "codemirror_mode": {
    "name": "ipython",
    "version": 3
   },
   "file_extension": ".py",
   "mimetype": "text/x-python",
   "name": "python",
   "nbconvert_exporter": "python",
   "pygments_lexer": "ipython3",
   "version": "3.7.12"
  },
  "papermill": {
   "default_parameters": {},
   "duration": 421.857338,
   "end_time": "2023-04-16T15:45:10.090108",
   "environment_variables": {},
   "exception": null,
   "input_path": "__notebook__.ipynb",
   "output_path": "__notebook__.ipynb",
   "parameters": {},
   "start_time": "2023-04-16T15:38:08.232770",
   "version": "2.4.0"
  }
 },
 "nbformat": 4,
 "nbformat_minor": 5
}
